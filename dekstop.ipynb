{
 "cells": [
  {
   "cell_type": "code",
   "execution_count": 2,
   "id": "863bc1da",
   "metadata": {},
   "outputs": [
    {
     "name": "stdout",
     "output_type": "stream",
     "text": [
      "Python version\n",
      "3.8.8 (default, Apr 13 2021, 15:08:03) [MSC v.1916 64 bit (AMD64)]\n"
     ]
    }
   ],
   "source": [
    "#Q2\n",
    "import sys\n",
    "print(\"Python version\")\n",
    "print (sys.version)"
   ]
  },
  {
   "cell_type": "code",
   "execution_count": 14,
   "id": "d80e768a",
   "metadata": {},
   "outputs": [
    {
     "name": "stdout",
     "output_type": "stream",
     "text": [
      "               Twinkle, twinkle, little star,\n",
      "                        How I wonder what you are.\n",
      "                                 Up above the world so high,\n",
      "                                 Like a diamond in the sky.\n",
      "               Twinkle, twinkle, little star,\n",
      "                        How I wonder what you are.\n"
     ]
    }
   ],
   "source": [
    "#Q1\n",
    "print(\"               Twinkle, twinkle, little star,\")\n",
    "print(\"                        How I wonder what you are.\")    \n",
    "print(\"                                 Up above the world so high,\")\n",
    "print(\"                                 Like a diamond in the sky.\")\n",
    "print(\"               Twinkle, twinkle, little star,\")\n",
    "print(\"                        How I wonder what you are.\") "
   ]
  },
  {
   "cell_type": "code",
   "execution_count": 17,
   "id": "1c3174e9",
   "metadata": {},
   "outputs": [
    {
     "name": "stdout",
     "output_type": "stream",
     "text": [
      "Current date and time : \n",
      "2021-10-23 01:31:50\n"
     ]
    }
   ],
   "source": [
    "#Q3\n",
    "import datetime\n",
    "now = datetime.datetime.now()\n",
    "print (\"Current date and time : \")\n",
    "print (now.strftime(\"%Y-%m-%d %H:%M:%S\"))"
   ]
  },
  {
   "cell_type": "code",
   "execution_count": 21,
   "id": "177726f7",
   "metadata": {},
   "outputs": [
    {
     "name": "stdout",
     "output_type": "stream",
     "text": [
      "Enter The Radius of Circle: 4\n",
      "The Area of Circle is 50.272\n"
     ]
    }
   ],
   "source": [
    "#Q4\n",
    "rad=float(input(\"Enter The Radius of Circle: \"))\n",
    "area=(3.142)*(rad)**2\n",
    "print(\"The Area of Circle is\", area)"
   ]
  },
  {
   "cell_type": "code",
   "execution_count": 4,
   "id": "78d81fc4",
   "metadata": {},
   "outputs": [
    {
     "name": "stdout",
     "output_type": "stream",
     "text": [
      "enter First Name: abdul\n",
      "enter Last Name: muneeb\n",
      "muneeb abdul\n"
     ]
    }
   ],
   "source": [
    "#Q5\n",
    "fname=input(\"enter First Name: \")\n",
    "lname=input(\"enter Last Name: \")\n",
    "print(lname,fname)\n"
   ]
  },
  {
   "cell_type": "code",
   "execution_count": 27,
   "id": "b4eceac0",
   "metadata": {},
   "outputs": [
    {
     "name": "stdout",
     "output_type": "stream",
     "text": [
      "Enter 1st Number: 2.232\n",
      "Enter 2nd Number: 313.133\n",
      "The Sum is: 315.365\n"
     ]
    }
   ],
   "source": [
    "#Q6\n",
    "a=float(input(\"Enter 1st Number: \"))\n",
    "b=float(input(\"Enter 2nd Number: \"))\n",
    "sum=a+b\n",
    "print('The Sum is:',sum)"
   ]
  },
  {
   "cell_type": "code",
   "execution_count": 38,
   "id": "57f1eaeb",
   "metadata": {},
   "outputs": [
    {
     "name": "stdout",
     "output_type": "stream",
     "text": [
      "enter the no to check odd or even: 10\n",
      "number is even\n"
     ]
    }
   ],
   "source": [
    "#Q8\n",
    "a=int(input(\"enter the no to check odd or even: \"))\n",
    "if (a%2 !=0):\n",
    "    print (\"The Number is odd\")\n",
    "else:\n",
    "    print(\"number is even\")"
   ]
  },
  {
   "cell_type": "code",
   "execution_count": null,
   "id": "70f132b2",
   "metadata": {},
   "outputs": [],
   "source": []
  },
  {
   "cell_type": "code",
   "execution_count": 63,
   "id": "26f4c48b",
   "metadata": {},
   "outputs": [
    {
     "name": "stdout",
     "output_type": "stream",
     "text": [
      "10\n"
     ]
    }
   ],
   "source": [
    "#Q9\n",
    "listName=[12,32,423,534,446,5,65,754,74,74]\n",
    "print(len(listName))"
   ]
  },
  {
   "cell_type": "code",
   "execution_count": 16,
   "id": "ba1ffe5e",
   "metadata": {},
   "outputs": [
    {
     "name": "stdout",
     "output_type": "stream",
     "text": [
      "Enter the No of Isl: 66\n",
      "Enter the No of math: 66\n",
      "Enter the No of physics: 66\n",
      "Enter the No of chemistry: 66\n",
      "Enter the No of Pst: 66\n",
      "66.0\n",
      "Grade C\n"
     ]
    }
   ],
   "source": [
    "#Q7\n",
    "a=float(input(\"Enter the No of Isl: \"))\n",
    "b=float(input(\"Enter the No of math: \"))\n",
    "c=float(input(\"Enter the No of physics: \"))\n",
    "d=float(input(\"Enter the No of chemistry: \"))\n",
    "e=float(input(\"Enter the No of Pst: \"))\n",
    "percent=(a+b+c+d+e)/(500)*100\n",
    "print(percent)\n",
    "if percent<=100 and percent>=80:\n",
    "    print(\"Grade A+\")\n",
    "elif percent<=80 and percent>=70:\n",
    "    print(\"Grade B\")\n",
    "elif percent<=70 and percent>=60:\n",
    "    print(\"Grade C\")\n",
    "elif percent<=60 and percent>=50:\n",
    "    print(\"Grade D\")\n",
    "elif percent<=50 and percent>=40:\n",
    "    print(\"Grade E\")\n",
    "elif percent<=40 and percent>=33:\n",
    "    print(\"Fail\")\n",
    "else:\n",
    "    print(\"Grade Doesnot Exist\")"
   ]
  },
  {
   "cell_type": "code",
   "execution_count": 25,
   "id": "b245ea75",
   "metadata": {},
   "outputs": [
    {
     "name": "stdout",
     "output_type": "stream",
     "text": [
      "largest No is: 71284\n"
     ]
    }
   ],
   "source": [
    "#Q11\n",
    "list=[1,232,254,36,758,68,6979,71284,12423,3525,24,225]\n",
    "print(\"largest No is:\",max(list))"
   ]
  },
  {
   "cell_type": "code",
   "execution_count": 30,
   "id": "f1df2082",
   "metadata": {},
   "outputs": [
    {
     "name": "stdout",
     "output_type": "stream",
     "text": [
      "140\n"
     ]
    }
   ],
   "source": [
    "#Q10\n",
    "list=[1,22,25,36,7,6,6,7,1,3,24,2]\n",
    "print(sum(list))"
   ]
  },
  {
   "cell_type": "code",
   "execution_count": 32,
   "id": "70f9e575",
   "metadata": {},
   "outputs": [
    {
     "name": "stdout",
     "output_type": "stream",
     "text": [
      "1\n",
      "1\n",
      "2\n",
      "3\n"
     ]
    }
   ],
   "source": [
    "#Q12\n",
    "a = [1, 1, 2, 3, 5, 8, 13, 21, 34, 55, 89] \n",
    "for i in a:\n",
    "    if i<5:\n",
    "        print(i)"
   ]
  },
  {
   "cell_type": "code",
   "execution_count": null,
   "id": "94173a1f",
   "metadata": {},
   "outputs": [],
   "source": []
  }
 ],
 "metadata": {
  "kernelspec": {
   "display_name": "Python 3",
   "language": "python",
   "name": "python3"
  },
  "language_info": {
   "codemirror_mode": {
    "name": "ipython",
    "version": 3
   },
   "file_extension": ".py",
   "mimetype": "text/x-python",
   "name": "python",
   "nbconvert_exporter": "python",
   "pygments_lexer": "ipython3",
   "version": "3.8.8"
  }
 },
 "nbformat": 4,
 "nbformat_minor": 5
}
